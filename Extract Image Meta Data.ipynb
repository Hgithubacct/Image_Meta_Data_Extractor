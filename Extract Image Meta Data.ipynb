{
 "cells": [
  {
   "cell_type": "code",
   "execution_count": 1,
   "metadata": {},
   "outputs": [],
   "source": [
    "#Have an image get meta data \n",
    "#Had a friend trying to get a car\n",
    "from PIL import Image\n",
    "from PIL.ExifTags import TAGS"
   ]
  },
  {
   "cell_type": "code",
   "execution_count": 3,
   "metadata": {},
   "outputs": [],
   "source": [
    "#works with vids too\n",
    "path = \"Enter File Path Here\"\n",
    "image = Image.open(path)\n",
    "exifdata = image.getexif()"
   ]
  },
  {
   "cell_type": "code",
   "execution_count": 9,
   "metadata": {},
   "outputs": [
    {
     "name": "stdout",
     "output_type": "stream",
     "text": [
      "ColorSpace               : 1\n",
      "ExifImageWidth           : 2704\n",
      "DateTimeOriginal         : 2020:08:07 12:14:13\n",
      "DateTimeDigitized        : 2020:08:07 12:14:13\n",
      "ExifImageHeight          : 1899\n",
      "ExifOffset               : 70\n",
      "SubsecTimeOriginal       : 475\n",
      "SubsecTimeDigitized      : 475\n",
      "Orientation              : 0\n",
      "DateTime                 : 2020:08:07 12:14:13\n"
     ]
    }
   ],
   "source": [
    "for tag_id in exifdata:\n",
    "    # tags\n",
    "    tag = TAGS.get(tag_id, tag_id)\n",
    "    data = exifdata.get(tag_id)\n",
    "    if isinstance(data, bytes):\n",
    "        data = data.decode()\n",
    "    print(f\"{tag:25}: {data}\")"
   ]
  },
  {
   "cell_type": "code",
   "execution_count": null,
   "metadata": {},
   "outputs": [],
   "source": []
  },
  {
   "cell_type": "code",
   "execution_count": null,
   "metadata": {},
   "outputs": [],
   "source": []
  }
 ],
 "metadata": {
  "kernelspec": {
   "display_name": "Python 3",
   "language": "python",
   "name": "python3"
  },
  "language_info": {
   "codemirror_mode": {
    "name": "ipython",
    "version": 3
   },
   "file_extension": ".py",
   "mimetype": "text/x-python",
   "name": "python",
   "nbconvert_exporter": "python",
   "pygments_lexer": "ipython3",
   "version": "3.7.5"
  }
 },
 "nbformat": 4,
 "nbformat_minor": 2
}
