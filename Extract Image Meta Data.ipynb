{
 "cells": [
  {
   "cell_type": "code",
   "execution_count": 18,
   "metadata": {},
   "outputs": [],
   "source": [
    "#Have an image get meta data \n",
    "from PIL import Image\n",
    "from PIL.ExifTags import TAGS\n",
    "import pandas as pd"
   ]
  },
  {
   "cell_type": "code",
   "execution_count": 15,
   "metadata": {},
   "outputs": [],
   "source": [
    "#works with vids too\n"
   ]
  },
  {
   "cell_type": "code",
   "execution_count": 33,
   "metadata": {},
   "outputs": [],
   "source": [
    "def strip_md(path):\n",
    "    image = Image.open(path)\n",
    "    metadata = image.getexif()\n",
    "    meta_data_dict = {}\n",
    "    for tag_id in metadata:\n",
    "        # tags\n",
    "        tag = TAGS.get(tag_id, tag_id)\n",
    "        data = metadata.get(tag_id)\n",
    "        if isinstance(data, bytes):\n",
    "            data = data.decode()\n",
    "        meta_data_dict[tag] = [data]\n",
    "        print(f\"{tag:25}: {data}\")\n",
    "    dataframe_md = pd.DataFrame.from_dict(meta_data_dict)\n",
    "    dataframe_md = dataframe_md.transpose()\n",
    "    \n",
    "        \n",
    "        \n",
    "        \n",
    "    return dataframe_md\n"
   ]
  },
  {
   "cell_type": "code",
   "execution_count": null,
   "metadata": {},
   "outputs": [],
   "source": []
  },
  {
   "cell_type": "code",
   "execution_count": null,
   "metadata": {},
   "outputs": [],
   "source": []
  },
  {
   "cell_type": "code",
   "execution_count": null,
   "metadata": {},
   "outputs": [],
   "source": []
  }
 ],
 "metadata": {
  "kernelspec": {
   "display_name": "Python 3",
   "language": "python",
   "name": "python3"
  },
  "language_info": {
   "codemirror_mode": {
    "name": "ipython",
    "version": 3
   },
   "file_extension": ".py",
   "mimetype": "text/x-python",
   "name": "python",
   "nbconvert_exporter": "python",
   "pygments_lexer": "ipython3",
   "version": "3.7.5"
  }
 },
 "nbformat": 4,
 "nbformat_minor": 2
}
