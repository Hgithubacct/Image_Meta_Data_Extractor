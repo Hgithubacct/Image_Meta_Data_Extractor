{
 "cells": [
  {
   "cell_type": "code",
   "execution_count": 18,
   "metadata": {},
   "outputs": [],
   "source": [
    "#Have an image get meta data \n",
    "from PIL import Image\n",
    "from PIL.ExifTags import TAGS\n",
    "import pandas as pd"
   ]
  },
  {
   "cell_type": "code",
   "execution_count": 15,
   "metadata": {},
   "outputs": [],
   "source": [
    "#works with vids too\n",
    "path = \"Enter Path Here\"\n",
    "image = Image.open(path)\n",
    "metadata = image.getexif()"
   ]
  },
  {
   "cell_type": "code",
   "execution_count": 26,
   "metadata": {},
   "outputs": [
    {
     "name": "stdout",
     "output_type": "stream",
     "text": [
      "ColorSpace               : 1\n",
      "ExifImageWidth           : 2704\n",
      "DateTimeOriginal         : 2020:08:07 12:14:13\n",
      "DateTimeDigitized        : 2020:08:07 12:14:13\n",
      "ExifImageHeight          : 1899\n",
      "ExifOffset               : 70\n",
      "SubsecTimeOriginal       : 475\n",
      "SubsecTimeDigitized      : 475\n",
      "Orientation              : 0\n",
      "DateTime                 : 2020:08:07 12:14:13\n"
     ]
    }
   ],
   "source": [
    "meta_data_dict = {}\n",
    "for tag_id in metadata:\n",
    "    # tags\n",
    "    tag = TAGS.get(tag_id, tag_id)\n",
    "    data = metadata.get(tag_id)\n",
    "    if isinstance(data, bytes):\n",
    "        data = data.decode()\n",
    "    meta_data_dict[tag] = [data]\n",
    "    print(f\"{tag:25}: {data}\")"
   ]
  },
  {
   "cell_type": "code",
   "execution_count": 29,
   "metadata": {},
   "outputs": [
    {
     "data": {
      "text/html": [
       "<div>\n",
       "<style scoped>\n",
       "    .dataframe tbody tr th:only-of-type {\n",
       "        vertical-align: middle;\n",
       "    }\n",
       "\n",
       "    .dataframe tbody tr th {\n",
       "        vertical-align: top;\n",
       "    }\n",
       "\n",
       "    .dataframe thead th {\n",
       "        text-align: right;\n",
       "    }\n",
       "</style>\n",
       "<table border=\"1\" class=\"dataframe\">\n",
       "  <thead>\n",
       "    <tr style=\"text-align: right;\">\n",
       "      <th></th>\n",
       "      <th>0</th>\n",
       "    </tr>\n",
       "  </thead>\n",
       "  <tbody>\n",
       "    <tr>\n",
       "      <th>ColorSpace</th>\n",
       "      <td>1</td>\n",
       "    </tr>\n",
       "    <tr>\n",
       "      <th>ExifImageWidth</th>\n",
       "      <td>2704</td>\n",
       "    </tr>\n",
       "    <tr>\n",
       "      <th>DateTimeOriginal</th>\n",
       "      <td>2020:08:07 12:14:13</td>\n",
       "    </tr>\n",
       "    <tr>\n",
       "      <th>DateTimeDigitized</th>\n",
       "      <td>2020:08:07 12:14:13</td>\n",
       "    </tr>\n",
       "    <tr>\n",
       "      <th>ExifImageHeight</th>\n",
       "      <td>1899</td>\n",
       "    </tr>\n",
       "    <tr>\n",
       "      <th>ExifOffset</th>\n",
       "      <td>70</td>\n",
       "    </tr>\n",
       "    <tr>\n",
       "      <th>SubsecTimeOriginal</th>\n",
       "      <td>475</td>\n",
       "    </tr>\n",
       "    <tr>\n",
       "      <th>SubsecTimeDigitized</th>\n",
       "      <td>475</td>\n",
       "    </tr>\n",
       "    <tr>\n",
       "      <th>Orientation</th>\n",
       "      <td>0</td>\n",
       "    </tr>\n",
       "    <tr>\n",
       "      <th>DateTime</th>\n",
       "      <td>2020:08:07 12:14:13</td>\n",
       "    </tr>\n",
       "  </tbody>\n",
       "</table>\n",
       "</div>"
      ],
      "text/plain": [
       "                                       0\n",
       "ColorSpace                             1\n",
       "ExifImageWidth                      2704\n",
       "DateTimeOriginal     2020:08:07 12:14:13\n",
       "DateTimeDigitized    2020:08:07 12:14:13\n",
       "ExifImageHeight                     1899\n",
       "ExifOffset                            70\n",
       "SubsecTimeOriginal                   475\n",
       "SubsecTimeDigitized                  475\n",
       "Orientation                            0\n",
       "DateTime             2020:08:07 12:14:13"
      ]
     },
     "execution_count": 29,
     "metadata": {},
     "output_type": "execute_result"
    }
   ],
   "source": [
    "dataframe_md = pd.DataFrame.from_dict(meta_data_dict)\n",
    "dataframe_md = dataframe_md.transpose()\n",
    "dataframe_md"
   ]
  },
  {
   "cell_type": "code",
   "execution_count": 25,
   "metadata": {},
   "outputs": [
    {
     "data": {
      "text/plain": [
       "{'ColorSpace': 1,\n",
       " 'ExifImageWidth': 2704,\n",
       " 'DateTimeOriginal': '2020:08:07 12:14:13',\n",
       " 'DateTimeDigitized': '2020:08:07 12:14:13',\n",
       " 'ExifImageHeight': 1899,\n",
       " 'ExifOffset': 70,\n",
       " 'SubsecTimeOriginal': '475',\n",
       " 'SubsecTimeDigitized': '475',\n",
       " 'Orientation': 0,\n",
       " 'DateTime': '2020:08:07 12:14:13'}"
      ]
     },
     "execution_count": 25,
     "metadata": {},
     "output_type": "execute_result"
    }
   ],
   "source": [
    "meta_data_dict"
   ]
  },
  {
   "cell_type": "code",
   "execution_count": null,
   "metadata": {},
   "outputs": [],
   "source": []
  }
 ],
 "metadata": {
  "kernelspec": {
   "display_name": "Python 3",
   "language": "python",
   "name": "python3"
  },
  "language_info": {
   "codemirror_mode": {
    "name": "ipython",
    "version": 3
   },
   "file_extension": ".py",
   "mimetype": "text/x-python",
   "name": "python",
   "nbconvert_exporter": "python",
   "pygments_lexer": "ipython3",
   "version": "3.7.5"
  }
 },
 "nbformat": 4,
 "nbformat_minor": 2
}
